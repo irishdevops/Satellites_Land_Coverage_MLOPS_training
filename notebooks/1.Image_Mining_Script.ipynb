{
 "cells": [
  {
   "cell_type": "code",
   "execution_count": null,
   "metadata": {},
   "outputs": [
    {
     "name": "stderr",
     "output_type": "stream",
     "text": [
      "/Users/gabrieldiazireland/Desktop/OpenPAS/Satellites_Land_Coverage_MLOPS_training/.venv/lib/python3.11/site-packages/mlflow/utils/requirements_utils.py:20: UserWarning: pkg_resources is deprecated as an API. See https://setuptools.pypa.io/en/latest/pkg_resources.html. The pkg_resources package is slated for removal as early as 2025-11-30. Refrain from using this package or pin to Setuptools<81.\n",
      "  import pkg_resources  # noqa: TID251\n"
     ]
    }
   ],
   "source": [
    "import pandas as pd\n",
    "from IPython.display import display\n",
    "from io import StringIO\n",
    "import ee\n",
    "# pip install earthengine-api\n",
    "import requests\n",
    "import time\n",
    "import mlflow\n",
    "\n",
    "\n",
    "import src.stages.image_mining as mining_package\n",
    "# import scripts.earth_engine_auth as ee_auth\n",
    "\n",
    "n_images_class = 1000\n",
    "# List of levels to keep\n",
    "levels_to_merge = []\n",
    "\n",
    "#     '52.a.05.006+52.b.08.101',\n",
    "#      '52.a.05.006+51.a.01.101',\n",
    "    # '52.a.05.001+52.b.09.101',\n",
    "    # '61.a.02.004+55.a.02.101',\n",
    "    # '61.a.04.010+55.a.02.101',\n",
    "    # '75.a.02.012A+65.a.04.006+50.a.01.101+50.a.03.101+57.a.03.101',\n",
    "    # '50.a.01.101+50.a.03.101',\n",
    "    # '59.b.04.101+59.b.06.101',\n",
    "    # '52.b.08.101+27.a.03.101',\n",
    "    # '52.b.09.101',\n",
    "    # '76.c.10.001+64.a.05.003+50.c.13.101',\n",
    "    # '74.a.02.001+52.b.07.101+64.a.05.017+50.c.13.101+56.a.05.101'\n",
    "\n",
    "# ee_auth.authenticate()\n"
   ]
  },
  {
   "cell_type": "code",
   "execution_count": null,
   "metadata": {},
   "outputs": [
    {
     "data": {
      "text/html": [
       "<p>To authorize access needed by Earth Engine, open the following\n",
       "        URL in a web browser and follow the instructions:</p>\n",
       "        <p><a href=https://code.earthengine.google.com/client-auth?scopes=https%3A//www.googleapis.com/auth/earthengine%20https%3A//www.googleapis.com/auth/cloud-platform%20https%3A//www.googleapis.com/auth/devstorage.full_control&request_id=ZVSaxDYOJjVavBZdBXRil6tvuypeLkLBwm3p33NvAkY&tc=fVBGCSwqzCL3bKHnalAvkjy75TLWqHPlbpWOpuiFiQw&cc=q0Z1IPDTNzuQM-DG8kzJw8H0Td-yBxOeFgNjm7N-6dc>https://code.earthengine.google.com/client-auth?scopes=https%3A//www.googleapis.com/auth/earthengine%20https%3A//www.googleapis.com/auth/cloud-platform%20https%3A//www.googleapis.com/auth/devstorage.full_control&request_id=ZVSaxDYOJjVavBZdBXRil6tvuypeLkLBwm3p33NvAkY&tc=fVBGCSwqzCL3bKHnalAvkjy75TLWqHPlbpWOpuiFiQw&cc=q0Z1IPDTNzuQM-DG8kzJw8H0Td-yBxOeFgNjm7N-6dc</a></p>\n",
       "        <p>The authorization workflow will generate a code, which you should paste in the box below.</p>\n",
       "        "
      ],
      "text/plain": [
       "<IPython.core.display.HTML object>"
      ]
     },
     "metadata": {},
     "output_type": "display_data"
    },
    {
     "ename": "Exception",
     "evalue": "Problem requesting tokens. Please try again.  HTTP Error 400: Bad Request b'{\\n  \"error\": \"invalid_grant\",\\n  \"error_description\": \"Malformed auth code.\"\\n}'",
     "output_type": "error",
     "traceback": [
      "\u001b[0;31m---------------------------------------------------------------------------\u001b[0m",
      "\u001b[0;31mHTTPError\u001b[0m                                 Traceback (most recent call last)",
      "File \u001b[0;32m~/Desktop/OpenPAS/Satellites_Land_Coverage_MLOPS_training/.venv/lib/python3.11/site-packages/ee/oauth.py:156\u001b[0m, in \u001b[0;36mrequest_token\u001b[0;34m(auth_code, code_verifier, client_id, client_secret, redirect_uri)\u001b[0m\n\u001b[1;32m    155\u001b[0m \u001b[38;5;28;01mtry\u001b[39;00m:\n\u001b[0;32m--> 156\u001b[0m   response \u001b[38;5;241m=\u001b[39m \u001b[43murllib\u001b[49m\u001b[38;5;241;43m.\u001b[39;49m\u001b[43mrequest\u001b[49m\u001b[38;5;241;43m.\u001b[39;49m\u001b[43murlopen\u001b[49m\u001b[43m(\u001b[49m\n\u001b[1;32m    157\u001b[0m \u001b[43m      \u001b[49m\u001b[43mTOKEN_URI\u001b[49m\u001b[43m,\u001b[49m\n\u001b[1;32m    158\u001b[0m \u001b[43m      \u001b[49m\u001b[43murllib\u001b[49m\u001b[38;5;241;43m.\u001b[39;49m\u001b[43mparse\u001b[49m\u001b[38;5;241;43m.\u001b[39;49m\u001b[43murlencode\u001b[49m\u001b[43m(\u001b[49m\u001b[43mrequest_args\u001b[49m\u001b[43m)\u001b[49m\u001b[38;5;241;43m.\u001b[39;49m\u001b[43mencode\u001b[49m\u001b[43m(\u001b[49m\u001b[43m)\u001b[49m\u001b[43m)\u001b[49m\u001b[38;5;241m.\u001b[39mread()\u001b[38;5;241m.\u001b[39mdecode()\n\u001b[1;32m    159\u001b[0m \u001b[38;5;28;01mexcept\u001b[39;00m urllib\u001b[38;5;241m.\u001b[39merror\u001b[38;5;241m.\u001b[39mHTTPError \u001b[38;5;28;01mas\u001b[39;00m e:\n\u001b[1;32m    160\u001b[0m   \u001b[38;5;66;03m# pylint:disable=broad-exception-raised,raise-missing-from\u001b[39;00m\n",
      "File \u001b[0;32m/opt/homebrew/Cellar/python@3.11/3.11.11/Frameworks/Python.framework/Versions/3.11/lib/python3.11/urllib/request.py:216\u001b[0m, in \u001b[0;36murlopen\u001b[0;34m(url, data, timeout, cafile, capath, cadefault, context)\u001b[0m\n\u001b[1;32m    215\u001b[0m     opener \u001b[38;5;241m=\u001b[39m _opener\n\u001b[0;32m--> 216\u001b[0m \u001b[38;5;28;01mreturn\u001b[39;00m \u001b[43mopener\u001b[49m\u001b[38;5;241;43m.\u001b[39;49m\u001b[43mopen\u001b[49m\u001b[43m(\u001b[49m\u001b[43murl\u001b[49m\u001b[43m,\u001b[49m\u001b[43m \u001b[49m\u001b[43mdata\u001b[49m\u001b[43m,\u001b[49m\u001b[43m \u001b[49m\u001b[43mtimeout\u001b[49m\u001b[43m)\u001b[49m\n",
      "File \u001b[0;32m/opt/homebrew/Cellar/python@3.11/3.11.11/Frameworks/Python.framework/Versions/3.11/lib/python3.11/urllib/request.py:525\u001b[0m, in \u001b[0;36mOpenerDirector.open\u001b[0;34m(self, fullurl, data, timeout)\u001b[0m\n\u001b[1;32m    524\u001b[0m     meth \u001b[38;5;241m=\u001b[39m \u001b[38;5;28mgetattr\u001b[39m(processor, meth_name)\n\u001b[0;32m--> 525\u001b[0m     response \u001b[38;5;241m=\u001b[39m \u001b[43mmeth\u001b[49m\u001b[43m(\u001b[49m\u001b[43mreq\u001b[49m\u001b[43m,\u001b[49m\u001b[43m \u001b[49m\u001b[43mresponse\u001b[49m\u001b[43m)\u001b[49m\n\u001b[1;32m    527\u001b[0m \u001b[38;5;28;01mreturn\u001b[39;00m response\n",
      "File \u001b[0;32m/opt/homebrew/Cellar/python@3.11/3.11.11/Frameworks/Python.framework/Versions/3.11/lib/python3.11/urllib/request.py:634\u001b[0m, in \u001b[0;36mHTTPErrorProcessor.http_response\u001b[0;34m(self, request, response)\u001b[0m\n\u001b[1;32m    633\u001b[0m \u001b[38;5;28;01mif\u001b[39;00m \u001b[38;5;129;01mnot\u001b[39;00m (\u001b[38;5;241m200\u001b[39m \u001b[38;5;241m<\u001b[39m\u001b[38;5;241m=\u001b[39m code \u001b[38;5;241m<\u001b[39m \u001b[38;5;241m300\u001b[39m):\n\u001b[0;32m--> 634\u001b[0m     response \u001b[38;5;241m=\u001b[39m \u001b[38;5;28;43mself\u001b[39;49m\u001b[38;5;241;43m.\u001b[39;49m\u001b[43mparent\u001b[49m\u001b[38;5;241;43m.\u001b[39;49m\u001b[43merror\u001b[49m\u001b[43m(\u001b[49m\n\u001b[1;32m    635\u001b[0m \u001b[43m        \u001b[49m\u001b[38;5;124;43m'\u001b[39;49m\u001b[38;5;124;43mhttp\u001b[39;49m\u001b[38;5;124;43m'\u001b[39;49m\u001b[43m,\u001b[49m\u001b[43m \u001b[49m\u001b[43mrequest\u001b[49m\u001b[43m,\u001b[49m\u001b[43m \u001b[49m\u001b[43mresponse\u001b[49m\u001b[43m,\u001b[49m\u001b[43m \u001b[49m\u001b[43mcode\u001b[49m\u001b[43m,\u001b[49m\u001b[43m \u001b[49m\u001b[43mmsg\u001b[49m\u001b[43m,\u001b[49m\u001b[43m \u001b[49m\u001b[43mhdrs\u001b[49m\u001b[43m)\u001b[49m\n\u001b[1;32m    637\u001b[0m \u001b[38;5;28;01mreturn\u001b[39;00m response\n",
      "File \u001b[0;32m/opt/homebrew/Cellar/python@3.11/3.11.11/Frameworks/Python.framework/Versions/3.11/lib/python3.11/urllib/request.py:563\u001b[0m, in \u001b[0;36mOpenerDirector.error\u001b[0;34m(self, proto, *args)\u001b[0m\n\u001b[1;32m    562\u001b[0m args \u001b[38;5;241m=\u001b[39m (\u001b[38;5;28mdict\u001b[39m, \u001b[38;5;124m'\u001b[39m\u001b[38;5;124mdefault\u001b[39m\u001b[38;5;124m'\u001b[39m, \u001b[38;5;124m'\u001b[39m\u001b[38;5;124mhttp_error_default\u001b[39m\u001b[38;5;124m'\u001b[39m) \u001b[38;5;241m+\u001b[39m orig_args\n\u001b[0;32m--> 563\u001b[0m \u001b[38;5;28;01mreturn\u001b[39;00m \u001b[38;5;28;43mself\u001b[39;49m\u001b[38;5;241;43m.\u001b[39;49m\u001b[43m_call_chain\u001b[49m\u001b[43m(\u001b[49m\u001b[38;5;241;43m*\u001b[39;49m\u001b[43margs\u001b[49m\u001b[43m)\u001b[49m\n",
      "File \u001b[0;32m/opt/homebrew/Cellar/python@3.11/3.11.11/Frameworks/Python.framework/Versions/3.11/lib/python3.11/urllib/request.py:496\u001b[0m, in \u001b[0;36mOpenerDirector._call_chain\u001b[0;34m(self, chain, kind, meth_name, *args)\u001b[0m\n\u001b[1;32m    495\u001b[0m func \u001b[38;5;241m=\u001b[39m \u001b[38;5;28mgetattr\u001b[39m(handler, meth_name)\n\u001b[0;32m--> 496\u001b[0m result \u001b[38;5;241m=\u001b[39m \u001b[43mfunc\u001b[49m\u001b[43m(\u001b[49m\u001b[38;5;241;43m*\u001b[39;49m\u001b[43margs\u001b[49m\u001b[43m)\u001b[49m\n\u001b[1;32m    497\u001b[0m \u001b[38;5;28;01mif\u001b[39;00m result \u001b[38;5;129;01mis\u001b[39;00m \u001b[38;5;129;01mnot\u001b[39;00m \u001b[38;5;28;01mNone\u001b[39;00m:\n",
      "File \u001b[0;32m/opt/homebrew/Cellar/python@3.11/3.11.11/Frameworks/Python.framework/Versions/3.11/lib/python3.11/urllib/request.py:643\u001b[0m, in \u001b[0;36mHTTPDefaultErrorHandler.http_error_default\u001b[0;34m(self, req, fp, code, msg, hdrs)\u001b[0m\n\u001b[1;32m    642\u001b[0m \u001b[38;5;28;01mdef\u001b[39;00m \u001b[38;5;21mhttp_error_default\u001b[39m(\u001b[38;5;28mself\u001b[39m, req, fp, code, msg, hdrs):\n\u001b[0;32m--> 643\u001b[0m     \u001b[38;5;28;01mraise\u001b[39;00m HTTPError(req\u001b[38;5;241m.\u001b[39mfull_url, code, msg, hdrs, fp)\n",
      "\u001b[0;31mHTTPError\u001b[0m: HTTP Error 400: Bad Request",
      "\nDuring handling of the above exception, another exception occurred:\n",
      "\u001b[0;31mException\u001b[0m                                 Traceback (most recent call last)",
      "Cell \u001b[0;32mIn[5], line 2\u001b[0m\n\u001b[1;32m      1\u001b[0m \u001b[38;5;66;03m# Step 1: Run this once to authenticate\u001b[39;00m\n\u001b[0;32m----> 2\u001b[0m \u001b[43mee\u001b[49m\u001b[38;5;241;43m.\u001b[39;49m\u001b[43mAuthenticate\u001b[49m\u001b[43m(\u001b[49m\u001b[43m)\u001b[49m\n\u001b[1;32m      4\u001b[0m \u001b[38;5;66;03m# Step 2: Initialize\u001b[39;00m\n\u001b[1;32m      5\u001b[0m ee\u001b[38;5;241m.\u001b[39mInitialize()\n",
      "File \u001b[0;32m~/Desktop/OpenPAS/Satellites_Land_Coverage_MLOPS_training/.venv/lib/python3.11/site-packages/ee/__init__.py:111\u001b[0m, in \u001b[0;36mAuthenticate\u001b[0;34m(authorization_code, quiet, code_verifier, auth_mode, scopes, force)\u001b[0m\n\u001b[1;32m     80\u001b[0m \u001b[38;5;28;01mdef\u001b[39;00m \u001b[38;5;21mAuthenticate\u001b[39m(\n\u001b[1;32m     81\u001b[0m     authorization_code: Optional[\u001b[38;5;28mstr\u001b[39m] \u001b[38;5;241m=\u001b[39m \u001b[38;5;28;01mNone\u001b[39;00m,\n\u001b[1;32m     82\u001b[0m     quiet: Optional[\u001b[38;5;28mbool\u001b[39m] \u001b[38;5;241m=\u001b[39m \u001b[38;5;28;01mNone\u001b[39;00m,\n\u001b[0;32m   (...)\u001b[0m\n\u001b[1;32m     86\u001b[0m     force: \u001b[38;5;28mbool\u001b[39m \u001b[38;5;241m=\u001b[39m \u001b[38;5;28;01mFalse\u001b[39;00m,\n\u001b[1;32m     87\u001b[0m ) \u001b[38;5;241m-\u001b[39m\u001b[38;5;241m>\u001b[39m Optional[\u001b[38;5;28mbool\u001b[39m]:\n\u001b[1;32m     88\u001b[0m \u001b[38;5;250m  \u001b[39m\u001b[38;5;124;03m\"\"\"Prompts the user to authorize access to Earth Engine via OAuth2.\u001b[39;00m\n\u001b[1;32m     89\u001b[0m \n\u001b[1;32m     90\u001b[0m \u001b[38;5;124;03m  Args:\u001b[39;00m\n\u001b[0;32m   (...)\u001b[0m\n\u001b[1;32m    109\u001b[0m \u001b[38;5;124;03m    True if we found valid credentials and didn't run the auth flow.\u001b[39;00m\n\u001b[1;32m    110\u001b[0m \u001b[38;5;124;03m  \"\"\"\u001b[39;00m\n\u001b[0;32m--> 111\u001b[0m   \u001b[38;5;28;01mreturn\u001b[39;00m \u001b[43moauth\u001b[49m\u001b[38;5;241;43m.\u001b[39;49m\u001b[43mauthenticate\u001b[49m\u001b[43m(\u001b[49m\u001b[43mauthorization_code\u001b[49m\u001b[43m,\u001b[49m\u001b[43m \u001b[49m\u001b[43mquiet\u001b[49m\u001b[43m,\u001b[49m\u001b[43m \u001b[49m\u001b[43mcode_verifier\u001b[49m\u001b[43m,\u001b[49m\u001b[43m \u001b[49m\u001b[43mauth_mode\u001b[49m\u001b[43m,\u001b[49m\n\u001b[1;32m    112\u001b[0m \u001b[43m                            \u001b[49m\u001b[43mscopes\u001b[49m\u001b[43m,\u001b[49m\u001b[43m \u001b[49m\u001b[43mforce\u001b[49m\u001b[43m)\u001b[49m\n",
      "File \u001b[0;32m~/Desktop/OpenPAS/Satellites_Land_Coverage_MLOPS_training/.venv/lib/python3.11/site-packages/ee/oauth.py:508\u001b[0m, in \u001b[0;36mauthenticate\u001b[0;34m(cli_authorization_code, quiet, cli_code_verifier, auth_mode, scopes, force)\u001b[0m\n\u001b[1;32m    505\u001b[0m \u001b[38;5;28;01mif\u001b[39;00m flow\u001b[38;5;241m.\u001b[39mdisplay_instructions(quiet):\n\u001b[1;32m    506\u001b[0m   _open_new_browser(flow\u001b[38;5;241m.\u001b[39mauth_url)\n\u001b[0;32m--> 508\u001b[0m \u001b[43mflow\u001b[49m\u001b[38;5;241;43m.\u001b[39;49m\u001b[43msave_code\u001b[49m\u001b[43m(\u001b[49m\u001b[43m)\u001b[49m\n",
      "File \u001b[0;32m~/Desktop/OpenPAS/Satellites_Land_Coverage_MLOPS_training/.venv/lib/python3.11/site-packages/ee/oauth.py:558\u001b[0m, in \u001b[0;36mFlow.save_code\u001b[0;34m(self, code)\u001b[0m\n\u001b[1;32m    556\u001b[0m   redirect_uri \u001b[38;5;241m=\u001b[39m \u001b[38;5;28mself\u001b[39m\u001b[38;5;241m.\u001b[39mserver\u001b[38;5;241m.\u001b[39murl\n\u001b[1;32m    557\u001b[0m   code \u001b[38;5;241m=\u001b[39m \u001b[38;5;28mself\u001b[39m\u001b[38;5;241m.\u001b[39mserver\u001b[38;5;241m.\u001b[39mfetch_code()  \u001b[38;5;66;03m# Waits for oauth callback\u001b[39;00m\n\u001b[0;32m--> 558\u001b[0m \u001b[43m_obtain_and_write_token\u001b[49m\u001b[43m(\u001b[49m\u001b[43mcode\u001b[49m\u001b[43m,\u001b[49m\u001b[43m \u001b[49m\u001b[38;5;28;43mself\u001b[39;49m\u001b[38;5;241;43m.\u001b[39;49m\u001b[43mcode_verifier\u001b[49m\u001b[43m,\u001b[49m\u001b[43m \u001b[49m\u001b[38;5;28;43mself\u001b[39;49m\u001b[38;5;241;43m.\u001b[39;49m\u001b[43mscopes\u001b[49m\u001b[43m,\u001b[49m\u001b[43m \u001b[49m\u001b[43mredirect_uri\u001b[49m\u001b[43m)\u001b[49m\n",
      "File \u001b[0;32m~/Desktop/OpenPAS/Satellites_Land_Coverage_MLOPS_training/.venv/lib/python3.11/site-packages/ee/oauth.py:240\u001b[0m, in \u001b[0;36m_obtain_and_write_token\u001b[0;34m(auth_code, code_verifier, scopes, redirect_uri)\u001b[0m\n\u001b[1;32m    238\u001b[0m   client_info \u001b[38;5;241m=\u001b[39m {k: fetched_info[k] \u001b[38;5;28;01mfor\u001b[39;00m k \u001b[38;5;129;01min\u001b[39;00m [\u001b[38;5;124m'\u001b[39m\u001b[38;5;124mclient_id\u001b[39m\u001b[38;5;124m'\u001b[39m, \u001b[38;5;124m'\u001b[39m\u001b[38;5;124mclient_secret\u001b[39m\u001b[38;5;124m'\u001b[39m]}\n\u001b[1;32m    239\u001b[0m   scopes \u001b[38;5;241m=\u001b[39m fetched_info\u001b[38;5;241m.\u001b[39mget(\u001b[38;5;124m'\u001b[39m\u001b[38;5;124mscopes\u001b[39m\u001b[38;5;124m'\u001b[39m) \u001b[38;5;129;01mor\u001b[39;00m scopes\n\u001b[0;32m--> 240\u001b[0m token \u001b[38;5;241m=\u001b[39m \u001b[43mrequest_token\u001b[49m\u001b[43m(\u001b[49m\u001b[43mauth_code\u001b[49m\u001b[38;5;241;43m.\u001b[39;49m\u001b[43mstrip\u001b[49m\u001b[43m(\u001b[49m\u001b[43m)\u001b[49m\u001b[43m,\u001b[49m\u001b[43m \u001b[49m\u001b[43mcode_verifier\u001b[49m\u001b[43m,\u001b[49m\u001b[43m \u001b[49m\u001b[38;5;241;43m*\u001b[39;49m\u001b[38;5;241;43m*\u001b[39;49m\u001b[43mclient_info\u001b[49m\u001b[43m)\u001b[49m\n\u001b[1;32m    241\u001b[0m client_info[\u001b[38;5;124m'\u001b[39m\u001b[38;5;124mrefresh_token\u001b[39m\u001b[38;5;124m'\u001b[39m] \u001b[38;5;241m=\u001b[39m token\n\u001b[1;32m    242\u001b[0m client_info[\u001b[38;5;124m'\u001b[39m\u001b[38;5;124mscopes\u001b[39m\u001b[38;5;124m'\u001b[39m] \u001b[38;5;241m=\u001b[39m scopes\n",
      "File \u001b[0;32m~/Desktop/OpenPAS/Satellites_Land_Coverage_MLOPS_training/.venv/lib/python3.11/site-packages/ee/oauth.py:161\u001b[0m, in \u001b[0;36mrequest_token\u001b[0;34m(auth_code, code_verifier, client_id, client_secret, redirect_uri)\u001b[0m\n\u001b[1;32m    156\u001b[0m   response \u001b[38;5;241m=\u001b[39m urllib\u001b[38;5;241m.\u001b[39mrequest\u001b[38;5;241m.\u001b[39murlopen(\n\u001b[1;32m    157\u001b[0m       TOKEN_URI,\n\u001b[1;32m    158\u001b[0m       urllib\u001b[38;5;241m.\u001b[39mparse\u001b[38;5;241m.\u001b[39murlencode(request_args)\u001b[38;5;241m.\u001b[39mencode())\u001b[38;5;241m.\u001b[39mread()\u001b[38;5;241m.\u001b[39mdecode()\n\u001b[1;32m    159\u001b[0m \u001b[38;5;28;01mexcept\u001b[39;00m urllib\u001b[38;5;241m.\u001b[39merror\u001b[38;5;241m.\u001b[39mHTTPError \u001b[38;5;28;01mas\u001b[39;00m e:\n\u001b[1;32m    160\u001b[0m   \u001b[38;5;66;03m# pylint:disable=broad-exception-raised,raise-missing-from\u001b[39;00m\n\u001b[0;32m--> 161\u001b[0m   \u001b[38;5;28;01mraise\u001b[39;00m \u001b[38;5;167;01mException\u001b[39;00m(\u001b[38;5;124m'\u001b[39m\u001b[38;5;124mProblem requesting tokens. Please try again.  \u001b[39m\u001b[38;5;132;01m%s\u001b[39;00m\u001b[38;5;124m \u001b[39m\u001b[38;5;132;01m%s\u001b[39;00m\u001b[38;5;124m'\u001b[39m \u001b[38;5;241m%\u001b[39m\n\u001b[1;32m    162\u001b[0m                   (e, e\u001b[38;5;241m.\u001b[39mread()))\n\u001b[1;32m    163\u001b[0m   \u001b[38;5;66;03m# pylint:enable=broad-exception-raised,raise-missing-from\u001b[39;00m\n\u001b[1;32m    165\u001b[0m \u001b[38;5;28;01mreturn\u001b[39;00m json\u001b[38;5;241m.\u001b[39mloads(response)[\u001b[38;5;124m'\u001b[39m\u001b[38;5;124mrefresh_token\u001b[39m\u001b[38;5;124m'\u001b[39m]\n",
      "\u001b[0;31mException\u001b[0m: Problem requesting tokens. Please try again.  HTTP Error 400: Bad Request b'{\\n  \"error\": \"invalid_grant\",\\n  \"error_description\": \"Malformed auth code.\"\\n}'"
     ]
    }
   ],
   "source": [
    "# Step 1: Run this once to authenticate\n",
    "ee.Authenticate()\n",
    "\n",
    "# Step 2: Initialize\n",
    "ee.Initialize()"
   ]
  },
  {
   "cell_type": "markdown",
   "metadata": {},
   "source": [
    "### **Grouping Classes Based on Requirements**"
   ]
  },
  {
   "cell_type": "code",
   "execution_count": 2,
   "metadata": {},
   "outputs": [
    {
     "name": "stdout",
     "output_type": "stream",
     "text": [
      "Number of ORIGINAL unique levels in the 'CVB1': 1\n",
      "Number of CURRENT unique levels in the 'CVB1': 1\n",
      "Unique original values in the 'CVB1': ['49.a.02.101']\n",
      "Unique current values in the 'CVB1': ['49.a.02.101']\n"
     ]
    }
   ],
   "source": [
    "df_load = mining_package.DataLoader(\"Sampled_Coordinates.csv\")\n",
    "df = df_load.read_csv()\n",
    "\n",
    "df_customize = mining_package.PreprocessClasses(levels_to_merge,n_images_class)\n",
    "df = df_customize.clean_and_filter(df)\n",
    "\n",
    "df_final = mining_package.ImageNameProcessor()\n",
    "df= df_final.process_image_names(df)"
   ]
  },
  {
   "cell_type": "markdown",
   "metadata": {},
   "source": [
    "### **Visualizamos df**"
   ]
  },
  {
   "cell_type": "code",
   "execution_count": 3,
   "metadata": {},
   "outputs": [
    {
     "data": {
      "text/html": [
       "<div>\n",
       "<style scoped>\n",
       "    .dataframe tbody tr th:only-of-type {\n",
       "        vertical-align: middle;\n",
       "    }\n",
       "\n",
       "    .dataframe tbody tr th {\n",
       "        vertical-align: top;\n",
       "    }\n",
       "\n",
       "    .dataframe thead th {\n",
       "        text-align: right;\n",
       "    }\n",
       "</style>\n",
       "<table border=\"1\" class=\"dataframe\">\n",
       "  <thead>\n",
       "    <tr style=\"text-align: right;\">\n",
       "      <th></th>\n",
       "      <th>rand_point_id</th>\n",
       "      <th>fid</th>\n",
       "      <th>COD_TESELA</th>\n",
       "      <th>SITE_CODE</th>\n",
       "      <th>COD_TV</th>\n",
       "      <th>NOMBRE</th>\n",
       "      <th>CVB1</th>\n",
       "      <th>CVB2</th>\n",
       "      <th>CVB3</th>\n",
       "      <th>CVB4</th>\n",
       "      <th>CVB5</th>\n",
       "      <th>long</th>\n",
       "      <th>lat</th>\n",
       "      <th>Image_Name</th>\n",
       "      <th>Image_Name_Length</th>\n",
       "    </tr>\n",
       "  </thead>\n",
       "  <tbody>\n",
       "    <tr>\n",
       "      <th>0</th>\n",
       "      <td>0</td>\n",
       "      <td>26420</td>\n",
       "      <td>30TTK85-06-076662</td>\n",
       "      <td>ES4110002</td>\n",
       "      <td>49.a.02.101</td>\n",
       "      <td>Pastizales psicroxerófilos criorosubmediterrán...</td>\n",
       "      <td>49.a.02.101</td>\n",
       "      <td>NaN</td>\n",
       "      <td>NaN</td>\n",
       "      <td>NaN</td>\n",
       "      <td>NaN</td>\n",
       "      <td>-5.584811</td>\n",
       "      <td>40.226281</td>\n",
       "      <td>26420:49.a.02.101</td>\n",
       "      <td>17</td>\n",
       "    </tr>\n",
       "    <tr>\n",
       "      <th>1</th>\n",
       "      <td>1</td>\n",
       "      <td>28067</td>\n",
       "      <td>30TUK06-06-078310</td>\n",
       "      <td>ES4110002</td>\n",
       "      <td>49.a.02.101</td>\n",
       "      <td>Pastizales psicroxerófilos criorosubmediterrán...</td>\n",
       "      <td>49.a.02.101</td>\n",
       "      <td>NaN</td>\n",
       "      <td>NaN</td>\n",
       "      <td>NaN</td>\n",
       "      <td>NaN</td>\n",
       "      <td>-5.318841</td>\n",
       "      <td>40.275757</td>\n",
       "      <td>28067:49.a.02.101</td>\n",
       "      <td>17</td>\n",
       "    </tr>\n",
       "  </tbody>\n",
       "</table>\n",
       "</div>"
      ],
      "text/plain": [
       "   rand_point_id    fid         COD_TESELA  SITE_CODE       COD_TV  \\\n",
       "0              0  26420  30TTK85-06-076662  ES4110002  49.a.02.101   \n",
       "1              1  28067  30TUK06-06-078310  ES4110002  49.a.02.101   \n",
       "\n",
       "                                              NOMBRE         CVB1  CVB2  CVB3  \\\n",
       "0  Pastizales psicroxerófilos criorosubmediterrán...  49.a.02.101   NaN   NaN   \n",
       "1  Pastizales psicroxerófilos criorosubmediterrán...  49.a.02.101   NaN   NaN   \n",
       "\n",
       "   CVB4  CVB5      long        lat         Image_Name  Image_Name_Length  \n",
       "0   NaN   NaN -5.584811  40.226281  26420:49.a.02.101                 17  \n",
       "1   NaN   NaN -5.318841  40.275757  28067:49.a.02.101                 17  "
      ]
     },
     "execution_count": 3,
     "metadata": {},
     "output_type": "execute_result"
    }
   ],
   "source": [
    "df.head(2)"
   ]
  },
  {
   "cell_type": "markdown",
   "metadata": {},
   "source": [
    "### **Autentificación Earth Engine**"
   ]
  },
  {
   "cell_type": "markdown",
   "metadata": {},
   "source": [
    "### **Función de obtención de imagenes**\n",
    "\n",
    "##### Importante preparar las carpetas con sus nombres en google drive!"
   ]
  },
  {
   "cell_type": "code",
   "execution_count": 3,
   "metadata": {},
   "outputs": [
    {
     "ename": "NameError",
     "evalue": "name 'df' is not defined",
     "output_type": "error",
     "traceback": [
      "\u001b[0;31m---------------------------------------------------------------------------\u001b[0m",
      "\u001b[0;31mNameError\u001b[0m                                 Traceback (most recent call last)",
      "Cell \u001b[0;32mIn[3], line 11\u001b[0m\n\u001b[1;32m      8\u001b[0m collection_name \u001b[38;5;241m=\u001b[39m \u001b[38;5;124m'\u001b[39m\u001b[38;5;124mextremadura_datos_lluvia\u001b[39m\u001b[38;5;124m'\u001b[39m\n\u001b[1;32m      9\u001b[0m square_buffer \u001b[38;5;241m=\u001b[39m \u001b[38;5;241m150\u001b[39m\n\u001b[0;32m---> 11\u001b[0m run \u001b[38;5;241m=\u001b[39m run_mining\u001b[38;5;241m.\u001b[39mInit_EE_Request(\u001b[43mdf\u001b[49m,collection, min_date, max_date,collection_name,square_buffer)\n\u001b[1;32m     13\u001b[0m \u001b[38;5;28mprint\u001b[39m(\u001b[38;5;124m\"\u001b[39m\u001b[38;5;124mTOTAL Execution time:\u001b[39m\u001b[38;5;124m\"\u001b[39m, run[\u001b[38;5;124m'\u001b[39m\u001b[38;5;124mexecution_time\u001b[39m\u001b[38;5;124m'\u001b[39m], \u001b[38;5;124m\"\u001b[39m\u001b[38;5;124mmin\u001b[39m\u001b[38;5;124m\"\u001b[39m)\n\u001b[1;32m     14\u001b[0m \u001b[38;5;28mprint\u001b[39m(\u001b[38;5;124m\"\u001b[39m\u001b[38;5;124mERRORS:\u001b[39m\u001b[38;5;124m\"\u001b[39m, run[\u001b[38;5;124m'\u001b[39m\u001b[38;5;124mcount_error\u001b[39m\u001b[38;5;124m'\u001b[39m])\n",
      "\u001b[0;31mNameError\u001b[0m: name 'df' is not defined"
     ]
    }
   ],
   "source": [
    "\n",
    "\n",
    "# help(mining_package.EE_Requests)\n",
    "\n",
    "run_mining = mining_package.EE_Requests()\n",
    "\n",
    "collection = 'COPERNICUS/S2_SR_HARMONIZED'\n",
    "min_date = '2023-07-01'\n",
    "max_date = '2023-09-01'\n",
    "collection_name = 'extremadura_datos_lluvia'\n",
    "square_buffer = 150\n",
    "\n",
    "run = run_mining.Init_EE_Request(df,collection, min_date, max_date,collection_name,square_buffer)\n",
    "\n",
    "print(\"TOTAL Execution time:\", run['execution_time'], \"min\")\n",
    "print(\"ERRORS:\", run['count_error'])\n",
    "print(\"SUCCESS:\", run['count_success'])\n",
    "print(\"ERROR LIST:\", run['list_error'])\n",
    "print(\"SUCCESS LIST:\", run['list_success'])\n"
   ]
  },
  {
   "cell_type": "code",
   "execution_count": 11,
   "metadata": {},
   "outputs": [],
   "source": [
    "#logging run after pipeline run \n",
    "import os\n",
    "mlflow.set_tracking_uri(\"file:./mlruns\")\n",
    "\n",
    "# Config opcional (para evitar interferencias de entorno)\n",
    "os.environ.pop(\"MLFLOW_TRACKING_URI\", None)\n",
    "\n",
    "mlflow.set_experiment(\"geospatial_experiment\")\n",
    "\n",
    "with mlflow.start_run():\n",
    "    mlflow.log_param(\"number_images\", n_images_class)\n",
    "    mlflow.log_param(\"collection\", collection)\n",
    "    mlflow.log_param(\"min_date\", min_date)\n",
    "    mlflow.log_param(\"max_date\", max_date)\n",
    "    mlflow.log_param(\"collection_name\", collection_name)\n",
    "    mlflow.log_param(\"square_buffer\", square_buffer)\n",
    "\n",
    "    output_path = \"output.txt\"\n",
    "    with open(output_path, \"w\") as f:\n",
    "        f.write(\"Este es un archivo de salida de prueba.\")\n",
    "\n",
    "    mlflow.log_artifact(output_path)"
   ]
  },
  {
   "cell_type": "code",
   "execution_count": null,
   "metadata": {},
   "outputs": [
    {
     "data": {
      "text/plain": [
       "<Popen: returncode: None args: ['mlflow', 'ui', '--backend-store-uri', 'file...>"
      ]
     },
     "execution_count": 10,
     "metadata": {},
     "output_type": "execute_result"
    },
    {
     "name": "stderr",
     "output_type": "stream",
     "text": [
      "/Users/gabrieldiazireland/Desktop/OpenPAS/Satellites_Land_Coverage_MLOPS_training/.venv/lib/python3.11/site-packages/mlflow/utils/requirements_utils.py:20: UserWarning: pkg_resources is deprecated as an API. See https://setuptools.pypa.io/en/latest/pkg_resources.html. The pkg_resources package is slated for removal as early as 2025-11-30. Refrain from using this package or pin to Setuptools<81.\n",
      "  import pkg_resources  # noqa: TID251\n",
      "/Users/gabrieldiazireland/Desktop/OpenPAS/Satellites_Land_Coverage_MLOPS_training/.venv/lib/python3.11/site-packages/pydantic/_internal/_config.py:321: UserWarning: Valid config keys have changed in V2:\n",
      "* 'schema_extra' has been renamed to 'json_schema_extra'\n",
      "  warnings.warn(message, UserWarning)\n",
      "[2025-06-29 01:19:00 -0400] [16794] [INFO] Starting gunicorn 21.2.0\n",
      "[2025-06-29 01:19:00 -0400] [16794] [ERROR] Connection in use: ('127.0.0.1', 5000)\n",
      "[2025-06-29 01:19:00 -0400] [16794] [ERROR] Retrying in 1 second.\n",
      "[2025-06-29 01:19:01 -0400] [16794] [ERROR] Connection in use: ('127.0.0.1', 5000)\n",
      "[2025-06-29 01:19:01 -0400] [16794] [ERROR] Retrying in 1 second.\n",
      "[2025-06-29 01:19:02 -0400] [16794] [ERROR] Connection in use: ('127.0.0.1', 5000)\n",
      "[2025-06-29 01:19:02 -0400] [16794] [ERROR] Retrying in 1 second.\n",
      "[2025-06-29 01:19:03 -0400] [16794] [ERROR] Connection in use: ('127.0.0.1', 5000)\n",
      "[2025-06-29 01:19:03 -0400] [16794] [ERROR] Retrying in 1 second.\n",
      "[2025-06-29 01:19:04 -0400] [16794] [ERROR] Connection in use: ('127.0.0.1', 5000)\n",
      "[2025-06-29 01:19:04 -0400] [16794] [ERROR] Retrying in 1 second.\n",
      "[2025-06-29 01:19:05 -0400] [16794] [ERROR] Can't connect to ('127.0.0.1', 5000)\n",
      "Running the mlflow server failed. Please see the logs above for details.\n"
     ]
    }
   ],
   "source": [
    "import subprocess\n",
    "\n",
    "subprocess.Popen([\"mlflow\", \"ui\", \"--backend-store-uri\", \"file:./mlruns\"])\n",
    "\n",
    "\n",
    "# open http://127.0.0.1:5000 in browser"
   ]
  },
  {
   "cell_type": "markdown",
   "metadata": {},
   "source": [
    "##Nota sobre COPERNICUS HARMONIZED\n",
    "\n",
    "COPERNICUS/S2:\n",
    "The \"COPERNICUS/S2\" dataset in Earth Engine contains raw Sentinel-2 Level-1C (L1C) data. Level-1C data refers to the original data acquired by the satellite, which undergoes minimal processing and is provided in its original geometry and radiometric format. The imagery in this dataset includes multiple spectral bands at different spatial resolutions.\n",
    "\n",
    "COPERNICUS/S2_SR_HARMONIZED:\n",
    "The \"COPERNICUS/S2_SR_HARMONIZED\" dataset in Earth Engine contains harmonized Sentinel-2 Level-2A (L2A) data. Level-2A data refers to top-of-atmosphere (TOA) reflectance data that has undergone atmospheric correction and radiometric calibration. This processing step aims to remove atmospheric effects and provide a consistent and comparable reflectance product. The harmonization process takes into account various factors like atmospheric conditions, sun angle, and surface properties."
   ]
  },
  {
   "cell_type": "markdown",
   "metadata": {},
   "source": []
  }
 ],
 "metadata": {
  "kernelspec": {
   "display_name": "Earth Miner Env",
   "language": "python",
   "name": "earth-miner"
  },
  "language_info": {
   "codemirror_mode": {
    "name": "ipython",
    "version": 3
   },
   "file_extension": ".py",
   "mimetype": "text/x-python",
   "name": "python",
   "nbconvert_exporter": "python",
   "pygments_lexer": "ipython3",
   "version": "3.11.11"
  },
  "orig_nbformat": 4
 },
 "nbformat": 4,
 "nbformat_minor": 2
}
